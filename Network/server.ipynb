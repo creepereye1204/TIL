{
 "cells": [
  {
   "cell_type": "code",
   "execution_count": 2,
   "metadata": {},
   "outputs": [],
   "source": [
    "import enet"
   ]
  },
  {
   "cell_type": "code",
   "execution_count": 3,
   "metadata": {},
   "outputs": [],
   "source": [
    "host = enet.Host(enet.Address(b\"0.0.0.0\", 24872), 32, 2, 0, 0)"
   ]
  },
  {
   "cell_type": "code",
   "execution_count": 4,
   "metadata": {},
   "outputs": [],
   "source": [
    "event = host.service(1000)"
   ]
  },
  {
   "cell_type": "code",
   "execution_count": 7,
   "metadata": {},
   "outputs": [
    {
     "name": "stdout",
     "output_type": "stream",
     "text": [
      "Help on built-in function service:\n",
      "\n",
      "service(...) method of enet.Host instance\n",
      "    Event service (int timeout)\n",
      "\n",
      "    Waits for events on the host specified and shuttles packets between\n",
      "    the host and its peers. The timeout is in milliseconds.\n",
      "\n",
      "    if fast_drop is set, None can be returned instead\n",
      "\n"
     ]
    }
   ],
   "source": [
    "help(host.service)"
   ]
  },
  {
   "cell_type": "code",
   "execution_count": null,
   "metadata": {},
   "outputs": [],
   "source": [
    "\n",
    "def start_server():\n",
    "    host = enet.Host(enet.Address(b\"0.0.0.0\", 24872), 32, 2, 0, 0)\n",
    "    print(\"Server is running...\")\n",
    "\n",
    "    while True:\n",
    "        event = host.service(1000)\n",
    "        try:\n",
    "\n",
    "            if event.type == enet.EVENT_TYPE_CONNECT:\n",
    "                print(f\"Client connected: {event.peer.address}\")\n",
    "                event.peer.data = \"Client\".encode(\"utf-8\")\n",
    "\n",
    "            elif event.type == enet.EVENT_TYPE_RECEIVE:\n",
    "                print(f\"Received packet: {event.packet.data.decode()} from {event.peer.data}\")\n",
    "                # 클라이언트에게 응답\n",
    "                response = \"ACK: \" + event.packet.data.decode()\n",
    "                event.peer.send(0, enet.Packet(response.encode()))\n",
    "                host.flush()\n",
    "\n",
    "            elif event.type == enet.EVENT_TYPE_DISCONNECT:\n",
    "                print(f\"Client disconnected: {event.peer.data}\")\n",
    "            else:\n",
    "                print(f\"Event type: {event.type}\")\n",
    "        except:\n",
    "            print(\"An error occurred:\", str(event))\n",
    "\n",
    "\n",
    "if __name__ == \"__main__\":\n",
    "    start_server()\n"
   ]
  },
  {
   "cell_type": "code",
   "execution_count": null,
   "metadata": {},
   "outputs": [
    {
     "name": "stdout",
     "output_type": "stream",
     "text": [
      "Server is running...\n",
      "Event type: 0\n",
      "Event type: 0\n",
      "Event type: 0\n",
      "Event type: 0\n",
      "Event type: 0\n",
      "Event type: 0\n",
      "Event type: 0\n",
      "Event type: 0\n",
      "Event type: 0\n",
      "Event type: 0\n",
      "Event type: 0\n",
      "Event type: 0\n",
      "Event type: 0\n",
      "Event type: 0\n",
      "Event type: 0\n",
      "Event type: 0\n",
      "Event type: 0\n",
      "Event type: 0\n",
      "Event type: 0\n",
      "Event type: 0\n",
      "Event type: 0\n",
      "Event type: 0\n",
      "Event type: 0\n",
      "Event type: 0\n",
      "Event type: 0\n",
      "Event type: 0\n",
      "Event type: 0\n",
      "Event type: 0\n",
      "Event type: 0\n",
      "Event type: 0\n",
      "Event type: 0\n"
     ]
    }
   ],
   "source": [
    "if __name__ == \"__main__\":\n",
    "    start_server()"
   ]
  },
  {
   "cell_type": "code",
   "execution_count": null,
   "metadata": {},
   "outputs": [],
   "source": []
  }
 ],
 "metadata": {
  "kernelspec": {
   "display_name": ".venv",
   "language": "python",
   "name": "python3"
  },
  "language_info": {
   "codemirror_mode": {
    "name": "ipython",
    "version": 3
   },
   "file_extension": ".py",
   "mimetype": "text/x-python",
   "name": "python",
   "nbconvert_exporter": "python",
   "pygments_lexer": "ipython3",
   "version": "3.12.4"
  }
 },
 "nbformat": 4,
 "nbformat_minor": 2
}
